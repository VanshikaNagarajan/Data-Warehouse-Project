{
 "cells": [
  {
   "cell_type": "code",
   "execution_count": 16,
   "id": "5228f361",
   "metadata": {
    "scrolled": true
   },
   "outputs": [
    {
     "name": "stdout",
     "output_type": "stream",
     "text": [
      "        age  hypertension  heart_disease    bmi  HbA1c_level  \\\n",
      "0      80.0             0              1  25.19          6.6   \n",
      "1      54.0             0              0  27.32          6.6   \n",
      "2      28.0             0              0  27.32          5.7   \n",
      "3      36.0             0              0  23.45          5.0   \n",
      "4      76.0             1              1  20.14          4.8   \n",
      "...     ...           ...            ...    ...          ...   \n",
      "99994  36.0             0              0  24.60          4.8   \n",
      "99996   2.0             0              0  17.37          6.5   \n",
      "99997  66.0             0              0  27.83          5.7   \n",
      "99998  24.0             0              0  35.42          4.0   \n",
      "99999  57.0             0              0  22.43          6.6   \n",
      "\n",
      "       blood_glucose_level  diabetes  gender_Male  gender_Other  \\\n",
      "0                      140         0            0             0   \n",
      "1                       80         0            0             0   \n",
      "2                      158         0            1             0   \n",
      "3                      155         0            0             0   \n",
      "4                      155         0            1             0   \n",
      "...                    ...       ...          ...           ...   \n",
      "99994                  145         0            0             0   \n",
      "99996                  100         0            0             0   \n",
      "99997                  155         0            1             0   \n",
      "99998                  100         0            0             0   \n",
      "99999                   90         0            0             0   \n",
      "\n",
      "       smoking_history_current  smoking_history_ever  smoking_history_former  \\\n",
      "0                            0                     0                       0   \n",
      "1                            0                     0                       0   \n",
      "2                            0                     0                       0   \n",
      "3                            1                     0                       0   \n",
      "4                            1                     0                       0   \n",
      "...                        ...                   ...                     ...   \n",
      "99994                        0                     0                       0   \n",
      "99996                        0                     0                       0   \n",
      "99997                        0                     0                       1   \n",
      "99998                        0                     0                       0   \n",
      "99999                        1                     0                       0   \n",
      "\n",
      "       smoking_history_never  smoking_history_not current  \n",
      "0                          1                            0  \n",
      "1                          0                            0  \n",
      "2                          1                            0  \n",
      "3                          0                            0  \n",
      "4                          0                            0  \n",
      "...                      ...                          ...  \n",
      "99994                      0                            0  \n",
      "99996                      0                            0  \n",
      "99997                      0                            0  \n",
      "99998                      1                            0  \n",
      "99999                      0                            0  \n",
      "\n",
      "[96146 rows x 14 columns]\n",
      "X_train shape: (76916, 13)\n",
      "Y_train shape: (76916,)\n",
      "X_test shape: (19230, 13)\n",
      "Y_test shape: (19230,)\n"
     ]
    },
    {
     "name": "stderr",
     "output_type": "stream",
     "text": [
      "/var/folders/9d/664tkyps6ngbzjv82lvkd5_r0000gn/T/ipykernel_73773/1638079020.py:28: DataConversionWarning: A column-vector y was passed when a 1d array was expected. Please change the shape of y to (n_samples,), for example using ravel().\n",
      "  model_rf.fit(X_train, Y_train)\n"
     ]
    },
    {
     "name": "stdout",
     "output_type": "stream",
     "text": [
      "Enter 0 or 1 for female and male: 1\n",
      "Enter age: 20\n",
      "Enter 0 for false and 1 for true if you have hypertension: 1\n",
      "Enter 0 for false and 1 for true if you have heart disease: 0\n",
      "Enter 0 for false and 1 for true if you have smoking history: 0\n",
      "Enter your BMI value: 19.1\n",
      "Enter your HbA1c level: 5\n",
      "Enter your blood glucose level: 90\n",
      "The model predicts that the user does not have diabetes.\n"
     ]
    }
   ],
   "source": [
    "import pandas as pd\n",
    "from sklearn.model_selection import train_test_split\n",
    "from sklearn.ensemble import RandomForestRegressor\n",
    "from sklearn.metrics import mean_squared_error, r2_score, accuracy_score\n",
    "\n",
    "# loading the data\n",
    "diabetes_data = pd.read_csv('diabetes_prediction_dataset.csv')\n",
    "\n",
    "# to remove the duplicates rows from the dataset\n",
    "diabetes_data.drop_duplicates(inplace=True)\n",
    "\n",
    "diabetes_data = pd.get_dummies(diabetes_data, columns=['gender'], drop_first=True)\n",
    "diabetes_data = pd.get_dummies(diabetes_data, columns=['smoking_history'], drop_first=True)\n",
    "print(diabetes_data)\n",
    "\n",
    "# split the data into test and train\n",
    "X = diabetes_data.drop('diabetes', axis=1)\n",
    "Y = diabetes_data['diabetes']\n",
    "X_train, X_test, Y_train, Y_test = train_test_split(X, Y, test_size=0.2)\n",
    "print(\"X_train shape:\", X_train.shape)\n",
    "print(\"Y_train shape:\", Y_train.shape)\n",
    "print(\"X_test shape:\", X_test.shape)\n",
    "print(\"Y_test shape:\", Y_test.shape)\n",
    "\n",
    "# train the model\n",
    "model_rf = RandomForestRegressor()\n",
    "Y_train = Y_train.values.reshape(-1, 1)\n",
    "model_rf.fit(X_train, Y_train)\n",
    "Y_test_reshaped = Y_test.values.reshape(-1, 1)\n",
    "\n",
    "# test the model and find the accuracy of the model\n",
    "def evaluate_model(model, X_test, Y_test):\n",
    "    Y_pred = model.predict(X_test)\n",
    "    Y_pred_binary = [0 if pred < 0.5 else 1 for pred in Y_pred]\n",
    "    accuracy = accuracy_score(Y_test, Y_pred_binary)\n",
    "    mse = mean_squared_error(Y_test, Y_pred)\n",
    "    r2 = r2_score(Y_test, Y_pred)\n",
    "    return mse, r2, accuracy\n",
    "\n",
    "mse_rf, r2_rf, accuracy_rf = evaluate_model(model_rf, X_test, Y_test)\n",
    "#print(\"Model 2 - Random Forest\")\n",
    "#print(\"Mean Squared Error:\", mse_rf)\n",
    "#print(\"R-squared:\", r2_rf)\n",
    "#print(\"Accuracy: \", accuracy_rf)\n",
    "\n",
    "\n",
    "def predict_diabetes(user_input):\n",
    "    # Create a DataFrame from user input\n",
    "    user_df = pd.DataFrame(user_input, index=[0])\n",
    "\n",
    "    user_df = user_df[X_train.columns]\n",
    "\n",
    "    # Make the prediction using the trained model\n",
    "    user_prediction = model_rf.predict(user_df)\n",
    "\n",
    "    if user_prediction[0] == 0:\n",
    "        return \"The model predicts that the user does not have diabetes.\"\n",
    "    else:\n",
    "        return \"The model predicts that the user has diabetes.\"\n",
    "\n",
    "# Example user input (replace with actual user input)\n",
    "user_input = {\n",
    "    'gender_Male': int(input(\"Enter 0 or 1 for female and male: \")),\n",
    "    'age': int(input(\"Enter age: \")),\n",
    "    'hypertension': int(input(\"Enter 0 for false and 1 for true if you have hypertension: \")),\n",
    "    'heart_disease': int(input(\"Enter 0 for false and 1 for true if you have heart disease: \")),\n",
    "    'smoking_history_never': int(input(\"Enter 0 for false and 1 for true if you have smoking history: \")),\n",
    "    'bmi': float(input(\"Enter your BMI value: \")),\n",
    "    'HbA1c_level': float(input(\"Enter your HbA1c level: \")),\n",
    "    'blood_glucose_level': int(input(\"Enter your blood glucose level: \")),\n",
    "    'gender_Other': 0,                   # Set these values as 0 for now\n",
    "    'smoking_history_current': 0,        # Set these values as 0 for now\n",
    "    'smoking_history_ever': 0,           # Set these values as 0 for now\n",
    "    'smoking_history_former': 0,         # Set these values as 0 for now\n",
    "    'smoking_history_not current': 0     # Set these values as 0 for now\n",
    "}\n",
    "\n",
    "# Run the prediction function with user input\n",
    "result = predict_diabetes(user_input)\n",
    "print(result)\n"
   ]
  },
  {
   "cell_type": "raw",
   "id": "356d2bd1",
   "metadata": {},
   "source": [
    "Y = model_rf.predict(X_test)"
   ]
  },
  {
   "cell_type": "code",
   "execution_count": 14,
   "id": "fff7f043",
   "metadata": {},
   "outputs": [
    {
     "data": {
      "text/plain": [
       "array([1.    , 1.    , 0.1475, ..., 1.    , 0.02  , 0.27  ])"
      ]
     },
     "execution_count": 14,
     "metadata": {},
     "output_type": "execute_result"
    }
   ],
   "source": [
    "Y"
   ]
  },
  {
   "cell_type": "code",
   "execution_count": null,
   "id": "5851d7c0",
   "metadata": {},
   "outputs": [],
   "source": []
  }
 ],
 "metadata": {
  "kernelspec": {
   "display_name": "Python 3 (ipykernel)",
   "language": "python",
   "name": "python3"
  },
  "language_info": {
   "codemirror_mode": {
    "name": "ipython",
    "version": 3
   },
   "file_extension": ".py",
   "mimetype": "text/x-python",
   "name": "python",
   "nbconvert_exporter": "python",
   "pygments_lexer": "ipython3",
   "version": "3.11.3"
  }
 },
 "nbformat": 4,
 "nbformat_minor": 5
}
