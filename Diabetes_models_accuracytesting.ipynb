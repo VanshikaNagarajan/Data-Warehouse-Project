{
 "cells": [
  {
   "cell_type": "code",
   "execution_count": 8,
   "id": "c07040be",
   "metadata": {
    "scrolled": true
   },
   "outputs": [
    {
     "name": "stdout",
     "output_type": "stream",
     "text": [
      "Model 1 - Linear Regression\n",
      "Mean Squared Error: 0.05227015927509332\n",
      "R-squared: 0.3700652755751058\n",
      "Accuracy: 0.9368694747789912\n"
     ]
    }
   ],
   "source": [
    "#model-1 LinerRegression Algorithm\n",
    "import pandas as pd\n",
    "diabetes_data = pd.read_csv('diabetes_prediction_dataset.csv')\n",
    "diabetes_data.drop_duplicates(inplace=True)\n",
    "#diabetes_data\n",
    "diabetes_data = pd.get_dummies(diabetes_data, columns=['gender'], drop_first=True)\n",
    "diabetes_data = pd.get_dummies(diabetes_data, columns=['smoking_history'], drop_first=True)\n",
    "\n",
    "# Split the data into train and test\n",
    "X = diabetes_data.drop(columns=['diabetes'])\n",
    "Y = diabetes_data['diabetes']\n",
    "\n",
    "from sklearn.model_selection import train_test_split\n",
    "X = diabetes_data.drop(columns=['diabetes'])\n",
    "Y = diabetes_data['diabetes']\n",
    "X_train, X_test, Y_train, Y_test = train_test_split(X, Y, test_size=0.2)\n",
    "\n",
    "#import model                                                \n",
    "from sklearn.linear_model import LinearRegression\n",
    "model_linear = LinearRegression()\n",
    "model_linear.fit(X_train, Y_train)\n",
    "\n",
    "from sklearn.metrics import mean_squared_error, r2_score\n",
    "from sklearn.metrics import accuracy_score\n",
    "def evaluate_model(model, X_test, Y_test):\n",
    "    Y_pred = model.predict(X_test)\n",
    "    Y_pred_binary = [0 if pred < 0.5 else 1 for pred in Y_pred]\n",
    "    mse = mean_squared_error(Y_test, Y_pred)\n",
    "    accuracy = accuracy_score(Y_test, Y_pred_binary)\n",
    "    r2 = r2_score(Y_test, Y_pred)\n",
    "    return mse, r2, accuracy\n",
    "mse_linear, r2_linear, accuracy_linear = evaluate_model(model_linear, X_test, Y_test)\n",
    "\n",
    "print(\"Model 1 - Linear Regression\")\n",
    "print(\"Mean Squared Error:\", mse_linear)\n",
    "print(\"R-squared:\", r2_linear)\n",
    "print(\"Accuracy:\", accuracy_linear)\n",
    "\n"
   ]
  },
  {
   "cell_type": "code",
   "execution_count": 77,
   "id": "2c4023d7",
   "metadata": {
    "scrolled": true
   },
   "outputs": [
    {
     "name": "stderr",
     "output_type": "stream",
     "text": [
      "/var/folders/9d/664tkyps6ngbzjv82lvkd5_r0000gn/T/ipykernel_67653/4088932818.py:22: DataConversionWarning: A column-vector y was passed when a 1d array was expected. Please change the shape of y to (n_samples,), for example using ravel().\n",
      "  model_rf.fit(X_train, Y_train)\n"
     ]
    },
    {
     "name": "stdout",
     "output_type": "stream",
     "text": [
      "Model 2 - Random Forest\n",
      "Mean Squared Error: 0.03047321892875715\n",
      "R-squared: 0.6200482365075799\n",
      "Accuracy: 0.9695267810712429\n"
     ]
    }
   ],
   "source": [
    "#model-2 RandomForestRegressor Algorithm \n",
    "import pandas as pd\n",
    "import numpy as np\n",
    "diabetes_data = pd.read_csv('diabetes_prediction_dataset.csv')\n",
    "diabetes_data.drop_duplicates(inplace=True)\n",
    "#diabetes_data\n",
    "diabetes_data = pd.get_dummies(diabetes_data, columns=['gender'], drop_first=True)\n",
    "diabetes_data = pd.get_dummies(diabetes_data, columns=['smoking_history'], drop_first=True)\n",
    "\n",
    "# Split the data into train and test\n",
    "X = diabetes_data.drop(columns=['diabetes'])\n",
    "Y = diabetes_data['diabetes']\n",
    "\n",
    "from sklearn.model_selection import train_test_split\n",
    "X = diabetes_data.drop(columns=['diabetes'])\n",
    "Y = diabetes_data['diabetes']\n",
    "X_train, X_test, Y_train, Y_test = train_test_split(X, Y, test_size=0.2)\n",
    "\n",
    "from sklearn.ensemble import RandomForestClassifier\n",
    "model_rf = RandomForestClassifier()\n",
    "Y_train = Y_train.values.reshape(-1, 1)\n",
    "model_rf.fit(X_train, Y_train)\n",
    "Y_test_reshaped = Y_test.values.reshape(-1, 1)\n",
    "\n",
    "from sklearn.metrics import mean_squared_error, r2_score\n",
    "\n",
    "from sklearn.metrics import accuracy_score\n",
    "\n",
    "def evaluate_model(model, X_test, Y_test):\n",
    "    Y_pred = model.predict(X_test)\n",
    "    Y_pred_binary = [0 if pred < 0.5 else 1 for pred in Y_pred]\n",
    "    accuracy = accuracy_score(Y_test, Y_pred_binary)\n",
    "    mse = mean_squared_error(Y_test, Y_pred)\n",
    "    r2 = r2_score(Y_test, Y_pred)\n",
    "    return mse, r2, accuracy\n",
    "mse_rf, r2_rf, accuracy_rf = evaluate_model(model_rf, X_test, Y_test)\n",
    "print(\"Model 2 - Random Forest\")\n",
    "print(\"Mean Squared Error:\", mse_rf)\n",
    "print(\"R-squared:\", r2_rf)\n",
    "print(\"Accuracy:\", accuracy_rf)\n",
    "\n"
   ]
  },
  {
   "cell_type": "code",
   "execution_count": 80,
   "id": "d32d8bea",
   "metadata": {},
   "outputs": [
    {
     "name": "stdout",
     "output_type": "stream",
     "text": [
      "Model 3 - K-Nearest Neighbors\n",
      "Mean Squared Error: 0.04086531461258451\n",
      "R-squared: 0.49691757086179356\n",
      "Accuracy: 0.9513780551222049\n"
     ]
    }
   ],
   "source": [
    "#model-3 KNeighborsRegressor Algorithm \n",
    "import pandas as pd\n",
    "diabetes_data = pd.read_csv('diabetes_prediction_dataset.csv')\n",
    "diabetes_data.drop_duplicates(inplace=True)\n",
    "#diabetes_data\n",
    "diabetes_data = pd.get_dummies(diabetes_data, columns=['gender'], drop_first=True)\n",
    "diabetes_data = pd.get_dummies(diabetes_data, columns=['smoking_history'], drop_first=True)\n",
    "\n",
    "# Split the data into train and test\n",
    "X = diabetes_data.drop(columns=['diabetes'])\n",
    "Y = diabetes_data['diabetes']\n",
    "\n",
    "from sklearn.model_selection import train_test_split\n",
    "X = diabetes_data.drop(columns=['diabetes'])\n",
    "Y = diabetes_data['diabetes']\n",
    "X_train, X_test, Y_train, Y_test = train_test_split(X, Y, test_size=0.2)\n",
    "\n",
    "\n",
    "from sklearn.neighbors import KNeighborsRegressor\n",
    "model_knn = KNeighborsRegressor()\n",
    "model_knn.fit(X_train, Y_train)\n",
    "\n",
    "from sklearn.metrics import mean_squared_error, r2_score, accuracy_score\n",
    "\n",
    "def evaluate_model(model, X_test, Y_test):\n",
    "    Y_pred = model.predict(X_test)\n",
    "    Y_pred_binary = [0 if pred < 0.5 else 1 for pred in Y_pred]\n",
    "    accuracy = accuracy_score(Y_test, Y_pred_binary)\n",
    "    mse = mean_squared_error(Y_test, Y_pred)\n",
    "    r2 = r2_score(Y_test, Y_pred)\n",
    "    return mse, r2, accuracy\n",
    "mse_knn, r2_knn, accuracy_knn = evaluate_model(model_knn, X_test, Y_test)\n",
    "print(\"Model 3 - K-Nearest Neighbors\")\n",
    "print(\"Mean Squared Error:\", mse_knn)\n",
    "print(\"R-squared:\", r2_knn)\n",
    "print(\"Accuracy:\", accuracy_knn)\n",
    "\n"
   ]
  },
  {
   "cell_type": "code",
   "execution_count": 81,
   "id": "47205dff",
   "metadata": {
    "scrolled": true
   },
   "outputs": [
    {
     "name": "stdout",
     "output_type": "stream",
     "text": [
      "Model 4 - Support Vector Machine\n",
      "Mean Squared Error: 0.04558044863378668\n",
      "R-squared: 0.43470426437402143\n",
      "Accuracy:  0.941185647425897\n"
     ]
    }
   ],
   "source": [
    "#model-4 SVM\n",
    "import pandas as pd\n",
    "diabetes_data = pd.read_csv('diabetes_prediction_dataset.csv')\n",
    "diabetes_data.drop_duplicates(inplace=True)\n",
    "\n",
    "diabetes_data = pd.get_dummies(diabetes_data, columns=['gender'], drop_first=True)\n",
    "diabetes_data = pd.get_dummies(diabetes_data, columns=['smoking_history'], drop_first=True)\n",
    "\n",
    "# Split the data into train and test\n",
    "X = diabetes_data.drop(columns=['diabetes'])\n",
    "Y = diabetes_data['diabetes']\n",
    "\n",
    "from sklearn.model_selection import train_test_split\n",
    "X = diabetes_data.drop(columns=['diabetes'])\n",
    "Y = diabetes_data['diabetes']\n",
    "X_train, X_test, Y_train, Y_test = train_test_split(X, Y, test_size=0.2)\n",
    "\n",
    "\n",
    "from sklearn.svm import SVR\n",
    "model_svm = SVR()\n",
    "model_svm.fit(X_train, Y_train)\n",
    "\n",
    "from sklearn.metrics import mean_squared_error, r2_score, accuracy_score\n",
    "\n",
    "def evaluate_model(model, X_test, Y_test):\n",
    "    Y_pred = model.predict(X_test)\n",
    "    Y_pred_binary = [0 if pred < 0.5 else 1 for pred in Y_pred]\n",
    "    mse = mean_squared_error(Y_test, Y_pred)\n",
    "    accuracy = accuracy_score(Y_test, Y_pred_binary)\n",
    "    r2 = r2_score(Y_test, Y_pred)\n",
    "    return mse, r2, accuracy\n",
    "\n",
    "mse_svm, r2_svm, accuracy_svm = evaluate_model(model_svm, X_test, Y_test)\n",
    "\n",
    "print(\"Model 4 - Support Vector Machine\")\n",
    "print(\"Mean Squared Error:\", mse_svm)\n",
    "print(\"R-squared:\", r2_svm)\n",
    "print(\"Accuracy: \", accuracy_svm)\n",
    "\n"
   ]
  },
  {
   "cell_type": "code",
   "execution_count": 82,
   "id": "6ff54900",
   "metadata": {},
   "outputs": [
    {
     "name": "stdout",
     "output_type": "stream",
     "text": [
      "Naive Bayes Classifier\n",
      "Accuracy: 0.8661986479459178\n",
      "Classification Report:\n",
      "              precision    recall  f1-score   support\n",
      "\n",
      "           0       0.98      0.87      0.92     17556\n",
      "           1       0.37      0.80      0.51      1674\n",
      "\n",
      "    accuracy                           0.87     19230\n",
      "   macro avg       0.68      0.84      0.72     19230\n",
      "weighted avg       0.93      0.87      0.89     19230\n",
      "\n"
     ]
    }
   ],
   "source": [
    "#model-5 Naive Bayes Classifier \n",
    "import pandas as pd\n",
    "diabetes_data = pd.read_csv('diabetes_prediction_dataset.csv')\n",
    "diabetes_data.drop_duplicates(inplace = True)\n",
    "diabetes_data = pd.get_dummies(diabetes_data, columns=['gender'], drop_first=True)\n",
    "diabetes_data = pd.get_dummies(diabetes_data, columns=['smoking_history'], drop_first=True)\n",
    "\n",
    "\n",
    "X = diabetes_data.drop(columns = ['diabetes'])\n",
    "Y = diabetes_data['diabetes']\n",
    "\n",
    "from sklearn.model_selection import train_test_split \n",
    "X_train, X_test, Y_train, Y_test = train_test_split(X, Y, test_size = 0.2)\n",
    "\n",
    "from sklearn.naive_bayes import GaussianNB\n",
    "model_nb = GaussianNB()\n",
    "model_nb.fit(X_train, Y_train)\n",
    "\n",
    "# Make predictions on the test data\n",
    "from sklearn.metrics import accuracy_score, classification_report\n",
    "Y_pred = model_nb.predict(X_test)\n",
    "Y_pred_binary = [0 if pred < 0.5 else 1 for pred in Y_pred]\n",
    "accuracy = accuracy_score(Y_test, Y_pred_binary)\n",
    "print(\"Naive Bayes Classifier\")\n",
    "print(\"Accuracy:\", accuracy)\n",
    "print(\"Classification Report:\")\n",
    "print(classification_report(Y_test, Y_pred))"
   ]
  },
  {
   "cell_type": "code",
   "execution_count": 75,
   "id": "9d76e808",
   "metadata": {},
   "outputs": [
    {
     "name": "stdout",
     "output_type": "stream",
     "text": [
      "Decision Tree Model\n",
      "Mean Squared Error: 0.0500520020800832\n",
      "R-squared: 0.34828400600896836\n",
      "Accuracy:  0.9492979719188768\n"
     ]
    }
   ],
   "source": [
    "#model-6 DecisionTree\n",
    "import pandas as pd\n",
    "diabetes_data = pd.read_csv('diabetes_prediction_dataset.csv')\n",
    "diabetes_data.drop_duplicates(inplace=True)\n",
    "diabetes_data = pd.get_dummies(diabetes_data, columns=['gender'], drop_first=True)\n",
    "diabetes_data = pd.get_dummies(diabetes_data, columns=['smoking_history'], drop_first=True)\n",
    "\n",
    "\n",
    "X = diabetes_data.drop(columns=['diabetes'])\n",
    "Y = diabetes_data['diabetes']\n",
    "\n",
    "from sklearn.model_selection import train_test_split\n",
    "X_train, X_test, Y_train, Y_test = train_test_split(X, Y, test_size=0.2)\n",
    "\n",
    "from sklearn.tree import DecisionTreeRegressor\n",
    "model_dt = DecisionTreeRegressor()\n",
    "model_dt.fit(X_train, Y_train)\n",
    "\n",
    "from sklearn.metrics import mean_squared_error, r2_score, accuracy_score\n",
    "def evaluate_model(model, X_test, Y_test):\n",
    "    Y_pred = model.predict(X_test)\n",
    "    Y_pred_binary = [0 if pred < 0.5 else 1 for pred in Y_pred]\n",
    "    accuracy = accuracy_score(Y_test, Y_pred_binary)\n",
    "    mse = mean_squared_error(Y_test, Y_pred)\n",
    "    r2 = r2_score(Y_test, Y_pred)\n",
    "    return mse, r2, accuracy\n",
    "\n",
    "\n",
    "mse_dt, r2_dt, accuracy_dt = evaluate_model(model_dt, X_test, Y_test)\n",
    "\n",
    "print(\"Decision Tree Model\")\n",
    "print(\"Mean Squared Error:\", mse_dt)\n",
    "print(\"R-squared:\", r2_dt)\n",
    "print(\"Accuracy: \", accuracy_dt)"
   ]
  },
  {
   "cell_type": "code",
   "execution_count": null,
   "id": "d80c0c9e",
   "metadata": {},
   "outputs": [],
   "source": []
  }
 ],
 "metadata": {
  "kernelspec": {
   "display_name": "Python 3 (ipykernel)",
   "language": "python",
   "name": "python3"
  },
  "language_info": {
   "codemirror_mode": {
    "name": "ipython",
    "version": 3
   },
   "file_extension": ".py",
   "mimetype": "text/x-python",
   "name": "python",
   "nbconvert_exporter": "python",
   "pygments_lexer": "ipython3",
   "version": "3.11.3"
  }
 },
 "nbformat": 4,
 "nbformat_minor": 5
}
